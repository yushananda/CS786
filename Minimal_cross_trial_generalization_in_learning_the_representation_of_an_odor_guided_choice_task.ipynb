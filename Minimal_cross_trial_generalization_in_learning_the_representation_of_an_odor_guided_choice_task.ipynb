{
  "cells": [
    {
      "cell_type": "markdown",
      "metadata": {
        "id": "RXve7UXPX3t3"
      },
      "source": [
        "# Term Paper\n",
        "\n",
        "Submission for implementation of two models from the paper:\n",
        "\n",
        "Song M, Takahashi YK, Burton AC,\n",
        "Roesch MR, Schoenbaum G, Niv Y, et al. (2022)\n",
        "Minimal cross-trial generalization in learning the\n",
        "representation of an odor-guided choice task. PLoS\n",
        "Comput Biol 18(3): e1009897. https://doi.org/10.1371/journal.pcbi.100989\n",
        "\n",
        "By the group: \n",
        "\n",
        "Lokendra Kumar Meena - 180383\n",
        "\n",
        "Palashdeep Singh - 180495\n",
        "\n",
        "Aysuh Anand - 200238\n",
        "\n",
        "<br><br>\n",
        "Use the following account to mount the drive, all data has been uploaded on the drive\n",
        "\n",
        "Username - cs786project@gmail.com\n",
        "\n",
        "Password - iitk@123"
      ]
    },
    {
      "cell_type": "code",
      "execution_count": 1,
      "metadata": {
        "colab": {
          "base_uri": "https://localhost:8080/"
        },
        "id": "4SL8POIdwhOw",
        "outputId": "dba041d1-961e-49e4-e453-ff74e2fbd0ef"
      },
      "outputs": [
        {
          "output_type": "stream",
          "name": "stderr",
          "text": [
            "INFO:numexpr.utils:NumExpr defaulting to 2 threads.\n"
          ]
        }
      ],
      "source": [
        "#Importing important libraries\n",
        "import os\n",
        "import sys\n",
        "import pystan\n",
        "import pickle\n",
        "import numpy as np\n",
        "import pandas as pd\n",
        "import scipy as sp\n",
        "from hashlib import md5\n",
        "import seaborn as sns\n",
        "from math import isnan\n",
        "from math import isinf\n",
        "from __future__ import division\n",
        "import scipy.stats.kde as kde\n",
        "from scipy.special import expit\n",
        "from google.colab import drive\n",
        "import matplotlib.pyplot as plt\n",
        "from collections import OrderedDict\n",
        "\n",
        "%matplotlib inline"
      ]
    },
    {
      "cell_type": "code",
      "execution_count": 2,
      "metadata": {
        "colab": {
          "base_uri": "https://localhost:8080/"
        },
        "id": "ApD511WdtynD",
        "outputId": "66199655-ec94-4464-bac8-6c8c4cabda04"
      },
      "outputs": [
        {
          "output_type": "stream",
          "name": "stdout",
          "text": [
            "Mounted at /content/drive\n"
          ]
        }
      ],
      "source": [
        "drive.mount('/content/drive')"
      ]
    },
    {
      "cell_type": "markdown",
      "metadata": {
        "id": "ERwh062XQw9n"
      },
      "source": [
        "## Declarations"
      ]
    },
    {
      "cell_type": "code",
      "execution_count": 3,
      "metadata": {
        "id": "7fp83qtyTfCH"
      },
      "outputs": [],
      "source": [
        "# Simulation info Global Parameters \n",
        "sim_blocks = 4\n",
        "sim_trials = 16\n",
        "sim_sessions = 2"
      ]
    },
    {
      "cell_type": "code",
      "execution_count": 4,
      "metadata": {
        "id": "YEaYD5Qeyfze"
      },
      "outputs": [],
      "source": [
        "samples = 2000 # samples per chain\n",
        "warmup = 1500 # warmup samples\n",
        "chains = 4 # number of chains\n",
        "thin = 1 # period for saving samples\n",
        "n_jobs = 4 # cores\n",
        "n_blocks = 4 # blocks in experiment\n",
        "\n",
        "samplingInfo = dict(samples=samples, warmup=warmup, chains=chains, thin=thin, n_jobs=n_jobs)"
      ]
    },
    {
      "cell_type": "code",
      "execution_count": 5,
      "metadata": {
        "id": "rYWw_z-mv8LT"
      },
      "outputs": [],
      "source": [
        "# Dataset handling with 3 differnet datasets available\n",
        "datasets = ['roesch2009', 'takahashi2016', 'burton2018']\n",
        "\n",
        "dataset2marker = {\n",
        "    'roesch2009': '+',\n",
        "    'takahashi2016': '.',\n",
        "    'burton2018': 'x'\n",
        "}\n",
        "\n",
        "ratio_s = {\n",
        "    'roesch2009': 4/3,\n",
        "    'takahashi2016': 5/3,\n",
        "    'burton2018': 1\n",
        "}\n",
        "\n",
        "dataset_labels = {\n",
        "    'roesch2009': 'Roesch et al. (2009)',\n",
        "    'takahashi2016': 'Takahashi et al. (2016)',\n",
        "    'burton2018': 'Burton et al. (2018)'\n",
        "}\n",
        "\n",
        "dataset2rat = {\n",
        "    'roesch2009': [1,2,3,4,5,6,7,8,9],\n",
        "    'takahashi2016': [10,11,12,13,14,15,16],\n",
        "    'burton2018': [17,18,19,20,21,22]\n",
        "}"
      ]
    },
    {
      "cell_type": "code",
      "execution_count": 6,
      "metadata": {
        "id": "nTkjwA0LfSrT"
      },
      "outputs": [],
      "source": [
        "rat2dataset = dict()\n",
        "for i in range(1,23):\n",
        "    if 1 <= i <= 9:\n",
        "        rat2dataset[i] = 'takahashi2016'\n",
        "    elif 10 <= i <= 16:\n",
        "        rat2dataset[i] = 'roesch2009'\n",
        "    else:\n",
        "        rat2dataset[i] = 'burton2018'\n",
        "\n",
        "ratOrder = np.array([10, 11, 12, 13, 14, 15, 16, 1, 2, 3, 4, 5, 6, 7, 8, 9, 17, 18, 19, 20, 21, 22]) - 1"
      ]
    },
    {
      "cell_type": "code",
      "execution_count": 7,
      "metadata": {
        "id": "f0vrh99yx8ca"
      },
      "outputs": [],
      "source": [
        "#Parameters for two of the models that we tried to implement\n",
        "modelInfo = {\n",
        "    'sixState_full': {\n",
        "        'modelName': 'sixState_full',\n",
        "        'parNames': ['beta','eta','gamma','sb','pers','lapse'],\n",
        "        'Npars': 6,\n",
        "        'parBounds': [[0,10], [0,1], [0,1], [-2,2], [-2,2], [0,1]]\n",
        "    },\n",
        "    'fourState_full': {\n",
        "        'modelName': 'fourState_full',\n",
        "        'parNames': ['beta','eta','gamma','sb','pers','lapse'],\n",
        "        'Npars': 6,\n",
        "        'parBounds': [[0,10], [0,1], [0,1], [-2,2], [-2,2], [0,1]]\n",
        "    },\n",
        "}"
      ]
    },
    {
      "cell_type": "markdown",
      "metadata": {
        "id": "9Ps7D0czQ2iY"
      },
      "source": [
        "## Helper functions"
      ]
    },
    {
      "cell_type": "code",
      "execution_count": 8,
      "metadata": {
        "id": "Y683xTrAyRq2"
      },
      "outputs": [],
      "source": [
        "def phi_approx(x): # Phi_approx(x) = logit^{-1}(0.07056 x^3 + 1.5976 x)\n",
        "    return expit(0.07056*(x**3) + 1.5976*x)"
      ]
    },
    {
      "cell_type": "code",
      "execution_count": 9,
      "metadata": {
        "id": "9_Yi6ZRohQDC"
      },
      "outputs": [],
      "source": [
        "#This is combined function of above two with code changed but same logic\n",
        "def Parameter_processing(datasetName, modelName):\n",
        "    data = pd.read_csv('/content/drive/My Drive/model_fits/' + datasetName + '_' + modelName + '_allSamples.csv')\n",
        "    params = np.empty((modelInfo[modelName]['Nparams']))\n",
        "    for iPar, parName in enumerate(modelInfo[modelName]['parNames']):\n",
        "        params[iPar] = data.loc[data['warmup']==0, 'params[' + str(iPar+1) + ']'].values.mean()\n",
        "\n",
        "    #transforming the parameters\n",
        "    params_trans = expit(0.07056*(params**3) + 1.5976*params)\n",
        "    params_trans = params_trans[0]*10\n",
        "    params_trans[4] = params_trans[4]*4-2\n",
        "    params_trans[3] = params_trans[3]*4-2\n",
        "\n",
        "    return params_trans"
      ]
    },
    {
      "cell_type": "markdown",
      "metadata": {
        "id": "dzcoaioLRQqH"
      },
      "source": [
        "## Model"
      ]
    },
    {
      "cell_type": "code",
      "execution_count": 14,
      "metadata": {
        "id": "FmrPI_h5NeU_"
      },
      "outputs": [],
      "source": [
        "# Function for converting data to dictionary\n",
        "def data2dict(data):\n",
        "    \n",
        "    Ns = data['rat'].unique().size # N subjects\n",
        "    Nt = data.shape[0] # total number of trials\n",
        "    \n",
        "    NSession = np.array([data.loc[data['rat']==rat,'session'].unique().size for rat in data['rat'].unique()]) #unique sessions\n",
        "    NSessionTotal = np.sum(NSession)\n",
        "    \n",
        "    startSubject = np.concatenate(([1],data['rat'][1:].values!=data['rat'][:-1].values))\n",
        "    startSession = np.concatenate(([1],data['session'][1:].values!=data['session'][:-1].values))\n",
        "    \n",
        "    block_index = data['block'].fillna(0).values.astype(int)\n",
        "    \n",
        "    # For the odor tasks\n",
        "    odor = np.zeros(data.shape[0])\n",
        "    odor[data['odor']=='left'] = 1\n",
        "    odor[data['odor']=='right'] = 2\n",
        "    odor[data['odor']=='free'] = 3\n",
        "    odor = odor.astype(int)\n",
        "    \n",
        "    choice = data['choice'].fillna(0).values.astype(int)\n",
        "    reward = data['rewardAmount'].fillna(0).values.astype(int)\n",
        "    delay = data['rewardDelay'].fillna(0).values\n",
        "    \n",
        "    trialType = np.zeros(data.shape[0])\n",
        "    trialType[data['trialType']=='valid'] = 1\n",
        "    trialType[data['trialType']=='shortStay'] = -1\n",
        "    trialType = trialType.astype(int)\n",
        "    \n",
        "    sessionType = np.zeros(data.shape[0])\n",
        "    sessionType[data['sessionType']=='leftBetterFirst'] = 1\n",
        "    sessionType[data['sessionType']=='rightBetterFirst'] = 2\n",
        "    sessionType = sessionType.astype(int)\n",
        "    return dict(Ns=Ns, Nt=Nt, NSession=NSession, NSessionTotal=NSessionTotal, odor=odor, choice=choice, reward=reward, delay=delay, trialType=trialType, sessionType=sessionType, startSubject=startSubject, startSession=startSession, block_index=block_index)\n"
      ]
    },
    {
      "cell_type": "code",
      "execution_count": 15,
      "metadata": {
        "id": "2wJwToNCzz83"
      },
      "outputs": [],
      "source": [
        "# Function for caching models\n",
        "def compile_model(filename, model_name=None, **kwargs):\n",
        "    # Stan models for parameter defenition uploaded on drive\n",
        "    with open(filename) as f:\n",
        "        model_code = f.read()\n",
        "        code_hash = md5(model_code.encode('ascii')).hexdigest()\n",
        "        \n",
        "        if model_name is None:\n",
        "            cache_fn = 'cached-model-{}.pkl'.format(code_hash)\n",
        "        else:\n",
        "            cache_fn = 'cached-{}-{}.pkl'.format(model_name, code_hash)\n",
        "        try:\n",
        "            sm = pickle.load(open(cache_fn, 'rb'))\n",
        "        except:\n",
        "            sm = pystan.StanModel(model_code=model_code)\n",
        "            with open(cache_fn, 'wb') as f:\n",
        "                pickle.dump(sm, f)\n",
        "        else:\n",
        "            print(\"Using cached StanModel\")\n",
        "        return sm"
      ]
    },
    {
      "cell_type": "code",
      "execution_count": 16,
      "metadata": {
        "id": "YpdEoK-WN83I"
      },
      "outputs": [],
      "source": [
        "# compiling the model using stan_utility for model definiton\n",
        "def fitModel(modelName, datasetName, dd=None, samplingInfo=None):\n",
        "    \n",
        "    #compiles the first time, saves the cached model and reuses it if there's no change\n",
        "    stanFile = '/content/drive/My Drive/model_code_stan/' + modelName + '.stan'\n",
        "    model = compile_model(stanFile)\n",
        "    \n",
        "    # fit model\n",
        "    fit = model.sampling(data=dd, iter=samplingInfo['samples'], warmup=samplingInfo['warmup'], n_jobs=samplingInfo['n_jobs'], chains=samplingInfo['chains'], seed=0, init='random')\n",
        "    \n",
        "    # save the fit to csv\n",
        "    allSamples = fit.to_dataframe(permuted=False, inc_warmup=True)\n",
        "    allSamples.to_csv('/content/drive/My Drive/model_fits/'+datasetName+'_'+modelName+'_allSamples.csv')\n",
        "    \n",
        "    return fit"
      ]
    },
    {
      "cell_type": "code",
      "source": [
        "datasetName = 'takahashi2016roesch2009burton2018Valid'\n",
        "modelName = 'sixState_full'  # alternatively: 'fourState_full'\n",
        "\n",
        "# import data\n",
        "data = pd.read_csv('/content/drive/My Drive/' + datasetName + '.csv')\n",
        "dd = data2dict(data)"
      ],
      "metadata": {
        "id": "anKGOu-omwBG"
      },
      "execution_count": 17,
      "outputs": []
    },
    {
      "cell_type": "code",
      "execution_count": null,
      "metadata": {
        "colab": {
          "background_save": true,
          "base_uri": "https://localhost:8080/"
        },
        "id": "7heem_wiUA7A",
        "outputId": "0087dd37-4ff9-483f-b935-4d0e021a6a3e"
      },
      "outputs": [
        {
          "name": "stderr",
          "output_type": "stream",
          "text": [
            "INFO:pystan:COMPILING THE C++ CODE FOR MODEL anon_model_270956cc540b0fdc34127b71223c72da NOW.\n"
          ]
        }
      ],
      "source": [
        "\n",
        "# fit model and save\n",
        "fit = fitModel(modelName, datasetName, dd, samplingInfo)"
      ]
    },
    {
      "cell_type": "markdown",
      "metadata": {
        "id": "jQ8U0WdSP7en"
      },
      "source": [
        "## Learning Curve Plotting"
      ]
    },
    {
      "cell_type": "code",
      "execution_count": 18,
      "metadata": {
        "id": "jpP0DTslTwRP"
      },
      "outputs": [],
      "source": [
        "def getFirstLastNTrials(N, sessionData, trialType, rewardType=None):    \n",
        "    first = sessionData.head(N).reset_index(drop=True).copy()\n",
        "    last = sessionData.tail(N).reset_index(drop=True).copy()\n",
        "    if rewardType is None:\n",
        "        first.loc[(((first['odor']=='left')|(first['odor']=='right')) if trialType=='free' else first['odor']=='free'), 'correct'] = np.nan\n",
        "        last.loc[((last['odor']=='left')|(last['odor']=='right') if trialType=='free' else last['odor']=='free'), 'correct'] = np.nan\n",
        "    else:\n",
        "        first.loc[((first['odor']=='left')|(first['odor']=='right') if trialType=='free' else first['odor']=='free') & (first['rewardType']==1 if rewardType == 'highR' else first['rewardType']==2), 'correct'] = np.nan\n",
        "        last.loc[((last['odor']=='left')|(last['odor']=='right') if trialType=='free' else last['odor']=='free') & (last['rewardType']==1 if rewardType == 'highR' else last['rewardType']==2), 'correct'] = np.nan\n",
        "    return (filltoNtrials(N, first['correct'].values, -1), filltoNtrials(N, last['correct'].values, 0))"
      ]
    },
    {
      "cell_type": "code",
      "execution_count": 11,
      "metadata": {
        "id": "ENAkl1UXTy14"
      },
      "outputs": [],
      "source": [
        "def filltoNtrials(N, tmp, loc):\n",
        "    if loc == -1:\n",
        "        if tmp.size<N:\n",
        "            for i in range(N-tmp.size):\n",
        "                tmp = np.append(tmp, np.nan)\n",
        "    elif loc == 0:\n",
        "        if tmp.size<N:\n",
        "            for i in range(N-tmp.size):\n",
        "                tmp = np.insert(tmp, 0, np.nan)\n",
        "                np.append(tmp,[np.nan])\n",
        "    return tmp"
      ]
    },
    {
      "cell_type": "code",
      "execution_count": 12,
      "metadata": {
        "id": "Yf9clZ12FRjJ"
      },
      "outputs": [],
      "source": [
        "def plotLearningCurve(data, N=10, ifReturnCurveData=False, ifLegend=False):\n",
        "    \n",
        "    if ifReturnCurveData:\n",
        "        curveData=dict()\n",
        "        for trialType in ['forced','free']:\n",
        "          for dataName in ['x','y','err']:\n",
        "            curveData[(trialType, dataName)]=None\n",
        "    else:\n",
        "        # plot setting\n",
        "        from IPython.display import set_matplotlib_formats\n",
        "        set_matplotlib_formats('png', 'pdf')\n",
        "        plt.rcParams.update({'font.family': 'arial'})\n",
        "        lineWidth = 2\n",
        "        fig, ax = plt.subplots(figsize=(10,3.5))\n",
        "    \n",
        "    # create x variable (trial index)\n",
        "    trialIndices = []\n",
        "    for i_block in range(n_blocks*2):\n",
        "        if i_block == 0:\n",
        "            start = 1\n",
        "        else:\n",
        "            start = trialIndices[-2] + (2 if i_block%2 else 1)\n",
        "        trialIndices = np.concatenate((trialIndices, np.arange(start, start+N), [np.nan]))   \n",
        "    \n",
        "    # note that the correct choice for free trials is defined based on block type (which is defined based on detected block change point, can be later than real change point)\n",
        "    data['correctChoice'] = 1*(data['odor']=='left') + 2*(data['odor']=='right') + (data['odor']=='free')*(\n",
        "            1*((data['blockType']=='short_long')|(data['blockType']=='big_small')) +\n",
        "            2*((data['blockType']=='long_short')|(data['blockType']=='small_big')) )\n",
        "    data['correct'] = (data['correctChoice'] == data['choice'])\n",
        "    \n",
        "    for trialType in ['forced','free']:\n",
        "        learningCurves = []\n",
        "        for iRat, rat in enumerate(data['rat'].unique()):\n",
        "            learningCurve = []\n",
        "            for i_block in np.arange(n_blocks)+1:\n",
        "                sessions = data.loc[data['rat']==rat,'session'].unique()\n",
        "                NSessions = sessions.shape[0]\n",
        "                firstN = np.zeros((NSessions, N))\n",
        "                lastN = np.zeros((NSessions, N))\n",
        "                for iter_session in range(NSessions):\n",
        "                    sessionData = data[(data['rat']==rat) & (data['block']==i_block) & (data['session']==sessions[iter_session]) & (data['trialType']=='valid')]\n",
        "                    thisFirst, thisLast = getFirstLastNTrials(N, sessionData, trialType)\n",
        "                    firstN[iter_session, :] = thisFirst\n",
        "                    lastN[iter_session, :] = thisLast\n",
        "                if NSessions > 1:\n",
        "                    learningCurve.append(np.nanmean(firstN, axis=0))\n",
        "                    learningCurve.append(np.nanmean(lastN, axis=0))\n",
        "                else:\n",
        "                    learningCurve.append(firstN[0, :])\n",
        "                    learningCurve.append(lastN[0, :])\n",
        "            learningCurves.append(np.concatenate([np.concatenate((curve,[np.nan])) for curve in learningCurve]))\n",
        "            \n",
        "        NValidRat = np.sum(~np.isnan(np.stack(learningCurves)), axis=0)\n",
        "        y = np.nanmean(learningCurves, axis=0)\n",
        "        err = np.nanstd(learningCurves, axis=0)/np.sqrt(NValidRat)\n",
        "        if ifReturnCurveData:\n",
        "            curveData[trialType, 'x'] = trialIndices\n",
        "            curveData[trialType, 'y'] = y\n",
        "            curveData[trialType, 'err'] = err\n",
        "        else:\n",
        "            ax.plot(trialIndices, y, 'r' if trialType=='forced' else 'b', label='Forced' if trialType=='forced' else 'Free', linewidth=lineWidth)\n",
        "            ax.fill_between(trialIndices, y-err, y+err, color='r' if trialType=='forced' else 'b', alpha=0.3)\n",
        "\n",
        "    if ifReturnCurveData:                                                  \n",
        "        return curveData                                             #can change return to print and remove else condition\n",
        "    else:\n",
        "        # plot the block switch points and general figure settings\n",
        "        for blockChange in np.array([N*2+1, N*4+2, N*6+3])+0.5:\n",
        "            ax.axvline(x=blockChange, linestyle='--', color='gray', linewidth=lineWidth)\n",
        "        ax.set_ylim([0, 1])\n",
        "        ax.set_xlim([0, N*8+4])\n",
        "        ax.set_xlabel('Trial')\n",
        "        ax.set_ylabel('Accuracy')\n",
        "        ax.spines['top'].set_visible(False)\n",
        "        ax.spines['right'].set_visible(False)\n",
        "        ax.set_xticklabels('')\n",
        "        ax.tick_params(axis='x', length=0)\n",
        "        ax.set_xlabel('')\n",
        "        ax.tick_params(axis='y', width=1.5, pad=5, direction='out')\n",
        "        ax.set_yticks([0, 0.2, 0.4, 0.6, 0.8, 1])\n",
        "        ax.set_yticklabels([0, 0.2, 0.4, 0.6, 0.8, 1], fontsize=20)\n",
        "        ax.set_ylabel('Accuracy', fontsize=25)\n",
        "        ax.yaxis.labelpad = 10\n",
        "        ax.spines['left'].set_linewidth(1.5)\n",
        "        ax.spines['bottom'].set_linewidth(1.5)\n",
        "        if ifLegend:\n",
        "            ax.legend(loc='lower right', frameon=False)"
      ]
    },
    {
      "cell_type": "code",
      "execution_count": 19,
      "metadata": {
        "colab": {
          "base_uri": "https://localhost:8080/",
          "height": 845
        },
        "id": "api8SLKju6Fi",
        "outputId": "6b95a378-8279-42d7-84d0-9032281f4c67"
      },
      "outputs": [
        {
          "output_type": "stream",
          "name": "stderr",
          "text": [
            "/usr/local/lib/python3.7/dist-packages/ipykernel_launcher.py:47: RuntimeWarning: Mean of empty slice\n",
            "/usr/local/lib/python3.7/dist-packages/ipykernel_launcher.py:46: RuntimeWarning: Mean of empty slice\n",
            "/usr/local/lib/python3.7/dist-packages/ipykernel_launcher.py:54: RuntimeWarning: Mean of empty slice\n",
            "/usr/local/lib/python3.7/dist-packages/numpy/lib/nanfunctions.py:1671: RuntimeWarning: Degrees of freedom <= 0 for slice.\n",
            "  keepdims=keepdims)\n",
            "/usr/local/lib/python3.7/dist-packages/ipykernel_launcher.py:46: RuntimeWarning: Mean of empty slice\n",
            "/usr/local/lib/python3.7/dist-packages/ipykernel_launcher.py:47: RuntimeWarning: Mean of empty slice\n",
            "/usr/local/lib/python3.7/dist-packages/ipykernel_launcher.py:54: RuntimeWarning: Mean of empty slice\n",
            "/usr/local/lib/python3.7/dist-packages/numpy/lib/nanfunctions.py:1671: RuntimeWarning: Degrees of freedom <= 0 for slice.\n",
            "  keepdims=keepdims)\n",
            "/usr/local/lib/python3.7/dist-packages/ipykernel_launcher.py:47: RuntimeWarning: Mean of empty slice\n",
            "/usr/local/lib/python3.7/dist-packages/ipykernel_launcher.py:46: RuntimeWarning: Mean of empty slice\n",
            "/usr/local/lib/python3.7/dist-packages/ipykernel_launcher.py:54: RuntimeWarning: Mean of empty slice\n",
            "/usr/local/lib/python3.7/dist-packages/numpy/lib/nanfunctions.py:1671: RuntimeWarning: Degrees of freedom <= 0 for slice.\n",
            "  keepdims=keepdims)\n",
            "/usr/local/lib/python3.7/dist-packages/ipykernel_launcher.py:46: RuntimeWarning: Mean of empty slice\n",
            "/usr/local/lib/python3.7/dist-packages/ipykernel_launcher.py:47: RuntimeWarning: Mean of empty slice\n",
            "/usr/local/lib/python3.7/dist-packages/ipykernel_launcher.py:54: RuntimeWarning: Mean of empty slice\n",
            "/usr/local/lib/python3.7/dist-packages/numpy/lib/nanfunctions.py:1671: RuntimeWarning: Degrees of freedom <= 0 for slice.\n",
            "  keepdims=keepdims)\n",
            "WARNING:matplotlib.font_manager:findfont: Font family ['arial'] not found. Falling back to DejaVu Sans.\n",
            "WARNING:matplotlib.font_manager:findfont: Font family ['arial'] not found. Falling back to DejaVu Sans.\n"
          ]
        },
        {
          "output_type": "display_data",
          "data": {
            "text/plain": [
              "<Figure size 720x252 with 1 Axes>"
            ],
            "image/png": "[encoded data removed]",
            "application/pdf": "[encoded data removed]"
          },
          "metadata": {
            "needs_background": "light"
          }
        },
        {
          "output_type": "display_data",
          "data": {
            "text/plain": [
              "<Figure size 720x252 with 1 Axes>"
            ],
            "image/png": "[encoded data removed]",
            "application/pdf": "[encoded data removed]"
          },
          "metadata": {
            "needs_background": "light"
          }
        }
      ],
      "source": [
        "plotLearningCurve(data=data, N=10,ifLegend=False)\n",
        "plotLearningCurve(data=data, N=30, ifLegend=False)"
      ]
    },
    {
      "cell_type": "markdown",
      "source": [
        "Learning curves for\n",
        "forced-choice (red) and free-choice (blue) trials. The curves are aligned to block-switch points (gray dashed lines), with the first and last 10 trials of each\n",
        "block shown. Accuracy is evaluated as the percentage of trials the animal chose the better option for that trial type (forced-choice trials: the rewarded\n",
        "well; free-choice trials: the well with reward at shorter delay or larger amount). Shaded areas represent 1 s.e.m across animals."
      ],
      "metadata": {
        "id": "4y-AYx10UWdT"
      }
    },
    {
      "cell_type": "markdown",
      "metadata": {
        "id": "s-wdFcdVeCED"
      },
      "source": [
        "## Run simulation / Load simulated data"
      ]
    },
    {
      "cell_type": "code",
      "execution_count": 20,
      "metadata": {
        "id": "p5lMJL2Ae9HQ"
      },
      "outputs": [],
      "source": [
        "# For Simulation\n",
        "models = ['sixState_full', 'fourState_full']\n",
        "dir_simu = '/content/drive/My Drive/model_simulation/'\n",
        "datasetName = 'takahashi2016roesch2009burton2018Valid'"
      ]
    },
    {
      "cell_type": "code",
      "execution_count": 21,
      "metadata": {
        "id": "9BWMvA9TeOYe"
      },
      "outputs": [],
      "source": [
        "# simulation parameters\n",
        "NSessions = 100000\n",
        "NTrials = 57\n",
        "w4List = [0, 0.1, 0.2, 0.3, 0.4, 0.5, 0.6, 0.7, 0.8, 0.9, 1]"
      ]
    },
    {
      "cell_type": "code",
      "execution_count": 22,
      "metadata": {
        "colab": {
          "base_uri": "https://localhost:8080/",
          "height": 505
        },
        "id": "Rh7DP_dbeeuf",
        "outputId": "6b65b319-4ab8-47c5-f489-4ad3c02b8157"
      },
      "outputs": [
        {
          "output_type": "stream",
          "name": "stdout",
          "text": [
            "Drive already mounted at /content/drive/; to attempt to forcibly remount, call drive.mount(\"/content/drive/\", force_remount=True).\n"
          ]
        },
        {
          "output_type": "execute_result",
          "data": {
            "text/plain": [
              "             dataset  rat  session      sessionType  trial  block   blockType  \\\n",
              "0      takahashi2016    1        1  leftBetterFirst      4      1  short_long   \n",
              "1      takahashi2016    1        1  leftBetterFirst      6      1  short_long   \n",
              "2      takahashi2016    1        1  leftBetterFirst      8      1  short_long   \n",
              "3      takahashi2016    1        1  leftBetterFirst      9      1  short_long   \n",
              "4      takahashi2016    1        1  leftBetterFirst     12      1  short_long   \n",
              "...              ...  ...      ...              ...    ...    ...         ...   \n",
              "89880     burton2018   22       39  leftBetterFirst    717      4   small_big   \n",
              "89881     burton2018   22       39  leftBetterFirst    719      4   small_big   \n",
              "89882     burton2018   22       39  leftBetterFirst    720      4   small_big   \n",
              "89883     burton2018   22       39  leftBetterFirst    721      4   small_big   \n",
              "89884     burton2018   22       39  leftBetterFirst    722      4   small_big   \n",
              "\n",
              "        odor  choice  rewardAmount  rewardDelay trialType  trialCondCode  \\\n",
              "0       left       1             1     0.502000     valid            5.0   \n",
              "1       left       1             1     0.502050     valid            5.0   \n",
              "2      right       1             0          NaN     valid            NaN   \n",
              "3      right       1             0          NaN     valid            NaN   \n",
              "4      right       2             1     1.002025     valid            8.0   \n",
              "...      ...     ...           ...          ...       ...            ...   \n",
              "89880   free       2             2     0.502025     valid            2.0   \n",
              "89881   left       1             1     0.501975     valid            3.0   \n",
              "89882   free       2             2     0.502000     valid            2.0   \n",
              "89883   free       2             2     0.502075     valid            2.0   \n",
              "89884   free       2             2     0.502025     valid            2.0   \n",
              "\n",
              "        trialCond  odorEntryRT  odorExitRT  wellEntryRT  wellExitRT  \n",
              "0      short_left     4.566050    0.776025     0.329050    3.814075  \n",
              "1      short_left     0.543000    0.762025     0.399000    4.194075  \n",
              "2             NaN     1.490075    0.797000     0.498050    0.000000  \n",
              "3             NaN     1.122000    0.622050     0.108025    0.000000  \n",
              "4      long_right     1.243025    0.552975     0.610025    3.089100  \n",
              "...           ...          ...         ...          ...         ...  \n",
              "89880   big_right     1.006025    0.544000     0.257025    4.148150  \n",
              "89881  small_left     2.716125    0.615000     0.335050    2.755100  \n",
              "89882   big_right     3.059100    0.584000     0.263025    4.141175  \n",
              "89883   big_right     5.154175    0.641000     0.251025    4.433100  \n",
              "89884   big_right     1.898075    0.559000     0.274000    4.367175  \n",
              "\n",
              "[89885 rows x 18 columns]"
            ],
            "text/html": [
              "\n",
              "  <div id=\"df-e64da98e-b5ad-48f0-981d-e8b2cdec18c9\">\n",
              "    <div class=\"colab-df-container\">\n",
              "      <div>\n",
              "<style scoped>\n",
              "    .dataframe tbody tr th:only-of-type {\n",
              "        vertical-align: middle;\n",
              "    }\n",
              "\n",
              "    .dataframe tbody tr th {\n",
              "        vertical-align: top;\n",
              "    }\n",
              "\n",
              "    .dataframe thead th {\n",
              "        text-align: right;\n",
              "    }\n",
              "</style>\n",
              "<table border=\"1\" class=\"dataframe\">\n",
              "  <thead>\n",
              "    <tr style=\"text-align: right;\">\n",
              "      <th></th>\n",
              "      <th>dataset</th>\n",
              "      <th>rat</th>\n",
              "      <th>session</th>\n",
              "      <th>sessionType</th>\n",
              "      <th>trial</th>\n",
              "      <th>block</th>\n",
              "      <th>blockType</th>\n",
              "      <th>odor</th>\n",
              "      <th>choice</th>\n",
              "      <th>rewardAmount</th>\n",
              "      <th>rewardDelay</th>\n",
              "      <th>trialType</th>\n",
              "      <th>trialCondCode</th>\n",
              "      <th>trialCond</th>\n",
              "      <th>odorEntryRT</th>\n",
              "      <th>odorExitRT</th>\n",
              "      <th>wellEntryRT</th>\n",
              "      <th>wellExitRT</th>\n",
              "    </tr>\n",
              "  </thead>\n",
              "  <tbody>\n",
              "    <tr>\n",
              "      <th>0</th>\n",
              "      <td>takahashi2016</td>\n",
              "      <td>1</td>\n",
              "      <td>1</td>\n",
              "      <td>leftBetterFirst</td>\n",
              "      <td>4</td>\n",
              "      <td>1</td>\n",
              "      <td>short_long</td>\n",
              "      <td>left</td>\n",
              "      <td>1</td>\n",
              "      <td>1</td>\n",
              "      <td>0.502000</td>\n",
              "      <td>valid</td>\n",
              "      <td>5.0</td>\n",
              "      <td>short_left</td>\n",
              "      <td>4.566050</td>\n",
              "      <td>0.776025</td>\n",
              "      <td>0.329050</td>\n",
              "      <td>3.814075</td>\n",
              "    </tr>\n",
              "    <tr>\n",
              "      <th>1</th>\n",
              "      <td>takahashi2016</td>\n",
              "      <td>1</td>\n",
              "      <td>1</td>\n",
              "      <td>leftBetterFirst</td>\n",
              "      <td>6</td>\n",
              "      <td>1</td>\n",
              "      <td>short_long</td>\n",
              "      <td>left</td>\n",
              "      <td>1</td>\n",
              "      <td>1</td>\n",
              "      <td>0.502050</td>\n",
              "      <td>valid</td>\n",
              "      <td>5.0</td>\n",
              "      <td>short_left</td>\n",
              "      <td>0.543000</td>\n",
              "      <td>0.762025</td>\n",
              "      <td>0.399000</td>\n",
              "      <td>4.194075</td>\n",
              "    </tr>\n",
              "    <tr>\n",
              "      <th>2</th>\n",
              "      <td>takahashi2016</td>\n",
              "      <td>1</td>\n",
              "      <td>1</td>\n",
              "      <td>leftBetterFirst</td>\n",
              "      <td>8</td>\n",
              "      <td>1</td>\n",
              "      <td>short_long</td>\n",
              "      <td>right</td>\n",
              "      <td>1</td>\n",
              "      <td>0</td>\n",
              "      <td>NaN</td>\n",
              "      <td>valid</td>\n",
              "      <td>NaN</td>\n",
              "      <td>NaN</td>\n",
              "      <td>1.490075</td>\n",
              "      <td>0.797000</td>\n",
              "      <td>0.498050</td>\n",
              "      <td>0.000000</td>\n",
              "    </tr>\n",
              "    <tr>\n",
              "      <th>3</th>\n",
              "      <td>takahashi2016</td>\n",
              "      <td>1</td>\n",
              "      <td>1</td>\n",
              "      <td>leftBetterFirst</td>\n",
              "      <td>9</td>\n",
              "      <td>1</td>\n",
              "      <td>short_long</td>\n",
              "      <td>right</td>\n",
              "      <td>1</td>\n",
              "      <td>0</td>\n",
              "      <td>NaN</td>\n",
              "      <td>valid</td>\n",
              "      <td>NaN</td>\n",
              "      <td>NaN</td>\n",
              "      <td>1.122000</td>\n",
              "      <td>0.622050</td>\n",
              "      <td>0.108025</td>\n",
              "      <td>0.000000</td>\n",
              "    </tr>\n",
              "    <tr>\n",
              "      <th>4</th>\n",
              "      <td>takahashi2016</td>\n",
              "      <td>1</td>\n",
              "      <td>1</td>\n",
              "      <td>leftBetterFirst</td>\n",
              "      <td>12</td>\n",
              "      <td>1</td>\n",
              "      <td>short_long</td>\n",
              "      <td>right</td>\n",
              "      <td>2</td>\n",
              "      <td>1</td>\n",
              "      <td>1.002025</td>\n",
              "      <td>valid</td>\n",
              "      <td>8.0</td>\n",
              "      <td>long_right</td>\n",
              "      <td>1.243025</td>\n",
              "      <td>0.552975</td>\n",
              "      <td>0.610025</td>\n",
              "      <td>3.089100</td>\n",
              "    </tr>\n",
              "    <tr>\n",
              "      <th>...</th>\n",
              "      <td>...</td>\n",
              "      <td>...</td>\n",
              "      <td>...</td>\n",
              "      <td>...</td>\n",
              "      <td>...</td>\n",
              "      <td>...</td>\n",
              "      <td>...</td>\n",
              "      <td>...</td>\n",
              "      <td>...</td>\n",
              "      <td>...</td>\n",
              "      <td>...</td>\n",
              "      <td>...</td>\n",
              "      <td>...</td>\n",
              "      <td>...</td>\n",
              "      <td>...</td>\n",
              "      <td>...</td>\n",
              "      <td>...</td>\n",
              "      <td>...</td>\n",
              "    </tr>\n",
              "    <tr>\n",
              "      <th>89880</th>\n",
              "      <td>burton2018</td>\n",
              "      <td>22</td>\n",
              "      <td>39</td>\n",
              "      <td>leftBetterFirst</td>\n",
              "      <td>717</td>\n",
              "      <td>4</td>\n",
              "      <td>small_big</td>\n",
              "      <td>free</td>\n",
              "      <td>2</td>\n",
              "      <td>2</td>\n",
              "      <td>0.502025</td>\n",
              "      <td>valid</td>\n",
              "      <td>2.0</td>\n",
              "      <td>big_right</td>\n",
              "      <td>1.006025</td>\n",
              "      <td>0.544000</td>\n",
              "      <td>0.257025</td>\n",
              "      <td>4.148150</td>\n",
              "    </tr>\n",
              "    <tr>\n",
              "      <th>89881</th>\n",
              "      <td>burton2018</td>\n",
              "      <td>22</td>\n",
              "      <td>39</td>\n",
              "      <td>leftBetterFirst</td>\n",
              "      <td>719</td>\n",
              "      <td>4</td>\n",
              "      <td>small_big</td>\n",
              "      <td>left</td>\n",
              "      <td>1</td>\n",
              "      <td>1</td>\n",
              "      <td>0.501975</td>\n",
              "      <td>valid</td>\n",
              "      <td>3.0</td>\n",
              "      <td>small_left</td>\n",
              "      <td>2.716125</td>\n",
              "      <td>0.615000</td>\n",
              "      <td>0.335050</td>\n",
              "      <td>2.755100</td>\n",
              "    </tr>\n",
              "    <tr>\n",
              "      <th>89882</th>\n",
              "      <td>burton2018</td>\n",
              "      <td>22</td>\n",
              "      <td>39</td>\n",
              "      <td>leftBetterFirst</td>\n",
              "      <td>720</td>\n",
              "      <td>4</td>\n",
              "      <td>small_big</td>\n",
              "      <td>free</td>\n",
              "      <td>2</td>\n",
              "      <td>2</td>\n",
              "      <td>0.502000</td>\n",
              "      <td>valid</td>\n",
              "      <td>2.0</td>\n",
              "      <td>big_right</td>\n",
              "      <td>3.059100</td>\n",
              "      <td>0.584000</td>\n",
              "      <td>0.263025</td>\n",
              "      <td>4.141175</td>\n",
              "    </tr>\n",
              "    <tr>\n",
              "      <th>89883</th>\n",
              "      <td>burton2018</td>\n",
              "      <td>22</td>\n",
              "      <td>39</td>\n",
              "      <td>leftBetterFirst</td>\n",
              "      <td>721</td>\n",
              "      <td>4</td>\n",
              "      <td>small_big</td>\n",
              "      <td>free</td>\n",
              "      <td>2</td>\n",
              "      <td>2</td>\n",
              "      <td>0.502075</td>\n",
              "      <td>valid</td>\n",
              "      <td>2.0</td>\n",
              "      <td>big_right</td>\n",
              "      <td>5.154175</td>\n",
              "      <td>0.641000</td>\n",
              "      <td>0.251025</td>\n",
              "      <td>4.433100</td>\n",
              "    </tr>\n",
              "    <tr>\n",
              "      <th>89884</th>\n",
              "      <td>burton2018</td>\n",
              "      <td>22</td>\n",
              "      <td>39</td>\n",
              "      <td>leftBetterFirst</td>\n",
              "      <td>722</td>\n",
              "      <td>4</td>\n",
              "      <td>small_big</td>\n",
              "      <td>free</td>\n",
              "      <td>2</td>\n",
              "      <td>2</td>\n",
              "      <td>0.502025</td>\n",
              "      <td>valid</td>\n",
              "      <td>2.0</td>\n",
              "      <td>big_right</td>\n",
              "      <td>1.898075</td>\n",
              "      <td>0.559000</td>\n",
              "      <td>0.274000</td>\n",
              "      <td>4.367175</td>\n",
              "    </tr>\n",
              "  </tbody>\n",
              "</table>\n",
              "<p>89885 rows × 18 columns</p>\n",
              "</div>\n",
              "      <button class=\"colab-df-convert\" onclick=\"convertToInteractive('df-e64da98e-b5ad-48f0-981d-e8b2cdec18c9')\"\n",
              "              title=\"Convert this dataframe to an interactive table.\"\n",
              "              style=\"display:none;\">\n",
              "        \n",
              "  <svg xmlns=\"http://www.w3.org/2000/svg\" height=\"24px\"viewBox=\"0 0 24 24\"\n",
              "       width=\"24px\">\n",
              "    <path d=\"M0 0h24v24H0V0z\" fill=\"none\"/>\n",
              "    <path d=\"M18.56 5.44l.94 2.06.94-2.06 2.06-.94-2.06-.94-.94-2.06-.94 2.06-2.06.94zm-11 1L8.5 8.5l.94-2.06 2.06-.94-2.06-.94L8.5 2.5l-.94 2.06-2.06.94zm10 10l.94 2.06.94-2.06 2.06-.94-2.06-.94-.94-2.06-.94 2.06-2.06.94z\"/><path d=\"M17.41 7.96l-1.37-1.37c-.4-.4-.92-.59-1.43-.59-.52 0-1.04.2-1.43.59L10.3 9.45l-7.72 7.72c-.78.78-.78 2.05 0 2.83L4 21.41c.39.39.9.59 1.41.59.51 0 1.02-.2 1.41-.59l7.78-7.78 2.81-2.81c.8-.78.8-2.07 0-2.86zM5.41 20L4 18.59l7.72-7.72 1.47 1.35L5.41 20z\"/>\n",
              "  </svg>\n",
              "      </button>\n",
              "      \n",
              "  <style>\n",
              "    .colab-df-container {\n",
              "      display:flex;\n",
              "      flex-wrap:wrap;\n",
              "      gap: 12px;\n",
              "    }\n",
              "\n",
              "    .colab-df-convert {\n",
              "      background-color: #E8F0FE;\n",
              "      border: none;\n",
              "      border-radius: 50%;\n",
              "      cursor: pointer;\n",
              "      display: none;\n",
              "      fill: #1967D2;\n",
              "      height: 32px;\n",
              "      padding: 0 0 0 0;\n",
              "      width: 32px;\n",
              "    }\n",
              "\n",
              "    .colab-df-convert:hover {\n",
              "      background-color: #E2EBFA;\n",
              "      box-shadow: 0px 1px 2px rgba(60, 64, 67, 0.3), 0px 1px 3px 1px rgba(60, 64, 67, 0.15);\n",
              "      fill: #174EA6;\n",
              "    }\n",
              "\n",
              "    [theme=dark] .colab-df-convert {\n",
              "      background-color: #3B4455;\n",
              "      fill: #D2E3FC;\n",
              "    }\n",
              "\n",
              "    [theme=dark] .colab-df-convert:hover {\n",
              "      background-color: #434B5C;\n",
              "      box-shadow: 0px 1px 3px 1px rgba(0, 0, 0, 0.15);\n",
              "      filter: drop-shadow(0px 1px 2px rgba(0, 0, 0, 0.3));\n",
              "      fill: #FFFFFF;\n",
              "    }\n",
              "  </style>\n",
              "\n",
              "      <script>\n",
              "        const buttonEl =\n",
              "          document.querySelector('#df-e64da98e-b5ad-48f0-981d-e8b2cdec18c9 button.colab-df-convert');\n",
              "        buttonEl.style.display =\n",
              "          google.colab.kernel.accessAllowed ? 'block' : 'none';\n",
              "\n",
              "        async function convertToInteractive(key) {\n",
              "          const element = document.querySelector('#df-e64da98e-b5ad-48f0-981d-e8b2cdec18c9');\n",
              "          const dataTable =\n",
              "            await google.colab.kernel.invokeFunction('convertToInteractive',\n",
              "                                                     [key], {});\n",
              "          if (!dataTable) return;\n",
              "\n",
              "          const docLinkHtml = 'Like what you see? Visit the ' +\n",
              "            '<a target=\"_blank\" href=https://colab.research.google.com/notebooks/data_table.ipynb>data table notebook</a>'\n",
              "            + ' to learn more about interactive tables.';\n",
              "          element.innerHTML = '';\n",
              "          dataTable['output_type'] = 'display_data';\n",
              "          await google.colab.output.renderOutput(dataTable, element);\n",
              "          const docLink = document.createElement('div');\n",
              "          docLink.innerHTML = docLinkHtml;\n",
              "          element.appendChild(docLink);\n",
              "        }\n",
              "      </script>\n",
              "    </div>\n",
              "  </div>\n",
              "  "
            ]
          },
          "metadata": {},
          "execution_count": 22
        }
      ],
      "source": [
        "from google.colab import drive\n",
        "drive.mount(\"/content/drive/\")\n",
        "dataValid = pd.read_csv(\"/content/drive/My Drive/takahashi2016roesch2009burton2018Valid.csv\")\n",
        "ratList = dataValid['rat'].unique()\n",
        "dataValid"
      ]
    },
    {
      "cell_type": "code",
      "execution_count": 23,
      "metadata": {
        "id": "mqMCaMKMTJFo"
      },
      "outputs": [],
      "source": [
        "def get_params(datasetName, modelName):\n",
        "    allSamples = pd.read_csv('/content/drive/My Drive/model_fits/' + datasetName + '_' + modelName + '_allSamples.csv')\n",
        "    mu_pr = np.empty((modelInfo[modelName]['Npars']))\n",
        "    for iPar, parName in enumerate(modelInfo[modelName]['parNames']):\n",
        "        mu_pr[iPar] = allSamples.loc[allSamples['warmup']==0, 'mu_pr[' + str(iPar+1) + ']'].values.mean()\n",
        "    pars = transform_params(modelName, mu_pr)\n",
        "    return pars"
      ]
    },
    {
      "cell_type": "code",
      "execution_count": 24,
      "metadata": {
        "id": "OmcrDRuVTR5X"
      },
      "outputs": [],
      "source": [
        "def transform_params(modelName, mu_pr):\n",
        "    pars = phi_approx(mu_pr);\n",
        "    pars[0] = pars[0] * 10;  # beta\n",
        "    pars[3] = pars[3] * 4 - 2;\n",
        "    pars[4] = pars[4] * 4 - 2;  \n",
        "    return pars"
      ]
    },
    {
      "cell_type": "code",
      "execution_count": 25,
      "metadata": {
        "id": "eRprppNAqaU3"
      },
      "outputs": [],
      "source": [
        "#This is for the 126-143 lines of code in the parent file\n",
        "def get_TrialConditionCode(choice, bType):\n",
        "    if choice == 1:\n",
        "        if bType == 'big_small':\n",
        "            return 1\n",
        "        elif bType == 'small_big':\n",
        "            return 3\n",
        "        elif bType == 'short_long':\n",
        "            return 5\n",
        "        elif bType == 'long_short':\n",
        "            return 7\n",
        "    else:\n",
        "        if bType == 'big_small':\n",
        "            return 4\n",
        "        elif bType == 'small_big':\n",
        "            return 2\n",
        "        elif bType == 'short_long':\n",
        "            return 8\n",
        "        elif bType == 'long_short':\n",
        "            return 6\n",
        "    return -1"
      ]
    },
    {
      "cell_type": "code",
      "execution_count": 26,
      "metadata": {
        "id": "RfljYf72tUDg"
      },
      "outputs": [],
      "source": [
        "# Function to generate odor sequences\n",
        "def generate_odorSeq():\n",
        "    odorSeq = []\n",
        "    while len(odorSeq) < sim_trials:\n",
        "        newSeq = [1]*8 + [2]*8 + [3]*7\n",
        "        np.random.shuffle(newSeq)\n",
        "        newSeq = list(newSeq)\n",
        "        if not (([1, 1, 1] in newSeq) or ([2, 2, 2] in newSeq) or ([3, 3, 3] in newSeq)):\n",
        "            odorSeq = odorSeq + newSeq\n",
        "\n",
        "    return odorSeq"
      ]
    },
    {
      "cell_type": "code",
      "execution_count": 27,
      "metadata": {
        "id": "SMDRRKlJsS4Z"
      },
      "outputs": [],
      "source": [
        "def sixState_full_sim(params, iRat=1):\n",
        "    beta, eta, gamma, sb, pers, lapse = params[0], params[1], params[2], params[3], params[4], params[5]\n",
        "    # initialization\n",
        "    odorchoice2state = np.array([[1,4],[3,2],[1,2]])\n",
        "    sessionList, sessionTypeList, trialList, blockList, blockTypeList, odorList, choiceList, rewardAmountList, rewardDelayList, trialTypeList, trialCondCodeList, trialCondList = [[] for _ in range(12)]\n",
        "\n",
        "    for iSession in range(sim_sessions):\n",
        "        # session info\n",
        "        sessionType = np.random.choice(['leftBetterFirst', 'rightBetterFirst'])\n",
        "        if sessionType == 'leftBetterFirst':\n",
        "            blockTypeSeq = ['short_long', 'long_short', 'big_small', 'small_big']\n",
        "        else:\n",
        "            blockTypeSeq = ['long_short', 'short_long', 'small_big', 'big_small']\n",
        "\n",
        "        # at the start of a new session, reset Q values and the perseveration term\n",
        "        Q = np.zeros((3, 2));\n",
        "        preChoice = 0;\n",
        "        perseveration = np.zeros(2);\n",
        "\n",
        "        for iBlock in range(sim_blocks):\n",
        "            blockType = blockTypeSeq[iBlock]\n",
        "            longDelay = 0\n",
        "            freeChoices = []\n",
        "            \n",
        "            odorSeq = generate_odorSeq()\n",
        "\n",
        "            iOdor = 0\n",
        "            for iTrial in range(sim_trials):\n",
        "            \n",
        "                # trial info\n",
        "                odor = odorSeq[iOdor]\n",
        "\n",
        "                # decision variable of left and right choices\n",
        "                if preChoice > 0:  # not the first choice of a session\n",
        "                    perseveration[preChoice-1] = pers;\n",
        "                    perseveration[2-preChoice] = 0;\n",
        "                \n",
        "                DVLeft = Q[odor-1, 0] + perseveration[0]\n",
        "                DVRight = Q[odor-1, 1] + sb + perseveration[1]\n",
        "\n",
        "                # simulate choice\n",
        "                pLeft = (1 - lapse) * 1 / (1 + np.exp(- beta * (DVLeft - DVRight))) + lapse/2\n",
        "                choice = 2 - (np.random.random() < pLeft)\n",
        "                if odor == 3:\n",
        "                    freeChoices.append(choice)\n",
        "\n",
        "                # simulate reward\n",
        "                ifReward = (odor == choice) + (odor == 3)\n",
        "                if ifReward:\n",
        "                    # reward amount\n",
        "                    if (blockType in ['short_long', 'long_short']) or (blockType == 'small_big' and choice == 1) or (blockType == 'big_small' and choice == 2):\n",
        "                        reward = 1\n",
        "                    else:\n",
        "                        reward = 2\n",
        "                    # reward delay\n",
        "                    if (blockType == 'long_short' and choice == 1) or (blockType == 'short_long' and choice == 2): # if choosing the long reward side\n",
        "                        longDelay = longDelay + 1\n",
        "                        if longDelay > 7:\n",
        "                            longDelay = 7\n",
        "                        delay = longDelay\n",
        "                    else:\n",
        "                        delay = 0.5\n",
        "                    # trial condition code\n",
        "                    trialCondCode = get_TrialConditionCode(choice, blockType)\n",
        "                    \n",
        "                    # discounted reward\n",
        "                    rewardPerceived = reward * np.power(gamma, delay)\n",
        "                else:\n",
        "                    reward = 0\n",
        "                    delay = np.nan\n",
        "                    trialCondCode = np.nan\n",
        "                    rewardPerceived = 0\n",
        "                \n",
        "                # in timing blocks, reduce longDelay by 1s if chosen less than 8 times in the last 10 free choice trials, to a minimum of 3s\n",
        "                if (blockType in ['short_long', 'long_short']) and (longDelay > 3):\n",
        "                    choiceLong = 1 if blockType == 'long_short' else 2\n",
        "                    if (len(freeChoices) >= 10) and (len(np.where(np.array(freeChoices[-10:]) == choiceLong)[0]) < 8):\n",
        "                        longDelay = longDelay - 1\n",
        "\n",
        "                delta = rewardPerceived - Q[odor-1, choice-1]\n",
        "                Q[odor-1, choice-1] += eta * delta\n",
        "\n",
        "                # update the previous choice\n",
        "                preChoice = choice;\n",
        "                \n",
        "                # record data\n",
        "                sessionList.append(iSession+1)\n",
        "                sessionTypeList.append(sessionType)\n",
        "                trialList.append(iTrial+1)\n",
        "                blockList.append(iBlock+1)\n",
        "                blockTypeList.append(blockType)\n",
        "                odorList.append('left' if odor==1 else ('right' if odor==2 else 'free'))\n",
        "                choiceList.append(choice)\n",
        "                rewardAmountList.append(reward)\n",
        "                rewardDelayList.append(delay)\n",
        "                trialTypeList.append('valid')\n",
        "                trialCondCodeList.append(trialCondCode)\n",
        "                \n",
        "                # proceed to the next trial\n",
        "                if not ((odor < 3) and (choice != odor)): # if correct forced choice or any free choice\n",
        "                    iOdor += 1\n",
        "    \n",
        "    trialCondMapping = ['big_left','big_right','small_left','small_right','short_left','short_right','long_left','long_right']\n",
        "    trialCondList = [np.nan if np.isnan(trialCondCode) else trialCondMapping[trialCondCode - 1] for trialCondCode in trialCondCodeList]\n",
        "    dataset = ['simulation'] * len(sessionList)\n",
        "    rat = [iRat] * len(sessionList)\n",
        "    data = pd.DataFrame(list(zip(dataset, rat, sessionList, sessionTypeList, trialList, blockList, blockTypeList, odorList, choiceList, rewardAmountList, rewardDelayList, trialTypeList, trialCondCodeList, trialCondList)), columns=['dataset', 'rat', 'session', 'sessionType', 'trial', 'block', 'blockType', 'odor', 'choice', 'rewardAmount', 'rewardDelay', 'trialType', 'trialCondCode', 'trialCond'])\n",
        "    \n",
        "    return data        "
      ]
    },
    {
      "cell_type": "code",
      "execution_count": 28,
      "metadata": {
        "id": "V4IwdohRsSmm"
      },
      "outputs": [],
      "source": [
        "def fourState_full_sim(params, iRat=1):\n",
        "    beta, eta, gamma, sb, pers, lapse = params[0], params[1], params[2], params[3], params[4], params[5]\n",
        "    # initialization\n",
        "    odorchoice2state = np.array([[1,4],[3,2],[1,2]])\n",
        "    sessionList, sessionTypeList, trialList, blockList, blockTypeList, odorList, choiceList, rewardAmountList, rewardDelayList, trialTypeList, trialCondCodeList, trialCondList = [[] for _ in range(12)]\n",
        "\n",
        "    for iSession in range(sim_sessions):\n",
        "        # session info\n",
        "        sessionType = np.random.choice(['leftBetterFirst', 'rightBetterFirst'])\n",
        "        if sessionType == 'leftBetterFirst':\n",
        "            blockTypeSeq = ['short_long', 'long_short', 'big_small', 'small_big']\n",
        "        else:\n",
        "            blockTypeSeq = ['long_short', 'short_long', 'small_big', 'big_small']\n",
        "\n",
        "        # at the start of a new session, reset Q values and the perseveration term\n",
        "        Q = np.zeros(4);\n",
        "        preChoice = 0;\n",
        "        perseveration = np.zeros(2);\n",
        "\n",
        "        for iBlock in range(sim_blocks):\n",
        "            blockType = blockTypeSeq[iBlock]\n",
        "            longDelay = 0\n",
        "            freeChoices = []\n",
        "            \n",
        "            odorSeq = generate_odorSeq()\n",
        "\n",
        "            iOdor = 0\n",
        "            for iTrial in range(sim_trials):\n",
        "            \n",
        "                # trial info\n",
        "                odor = odorSeq[iOdor]\n",
        "\n",
        "                # decision variable of left and right choices\n",
        "                if preChoice > 0:  # not the first choice of a session\n",
        "                    perseveration[preChoice-1] = pers;\n",
        "                    perseveration[2-preChoice] = 0;\n",
        "                \n",
        "                DVLeft = Q[odorchoice2state[odor-1,0]-1] + perseveration[0]\n",
        "                DVRight = Q[odorchoice2state[odor-1,1]-1] + sb + perseveration[1]\n",
        "\n",
        "                # simulate choice\n",
        "                pLeft = (1 - lapse) * 1 / (1 + np.exp(- beta * (DVLeft - DVRight))) + lapse/2\n",
        "                choice = 2 - (np.random.random() < pLeft)\n",
        "                if odor == 3:\n",
        "                    freeChoices.append(choice)\n",
        "\n",
        "                # simulate reward\n",
        "                ifReward = (odor == choice) + (odor == 3)\n",
        "                if ifReward:\n",
        "                    # reward amount\n",
        "                    if (blockType in ['short_long', 'long_short']) or (blockType == 'small_big' and choice == 1) or (blockType == 'big_small' and choice == 2):\n",
        "                        reward = 1\n",
        "                    else:\n",
        "                        reward = 2\n",
        "                    # reward delay\n",
        "                    if (blockType == 'long_short' and choice == 1) or (blockType == 'short_long' and choice == 2): # if choosing the long reward side\n",
        "                        longDelay = longDelay + 1\n",
        "                        if longDelay > 7:\n",
        "                            longDelay = 7\n",
        "                        delay = longDelay\n",
        "                    else:\n",
        "                        delay = 0.5\n",
        "                    # trial condition code\n",
        "                    trialCondCode = get_TrialConditionCode(choice, blockType)\n",
        "                    \n",
        "                    # discounted reward\n",
        "                    rewardPerceived = reward * np.power(gamma, delay)\n",
        "                else:\n",
        "                    reward = 0\n",
        "                    delay = np.nan\n",
        "                    trialCondCode = np.nan\n",
        "                    rewardPerceived = 0\n",
        "                \n",
        "                # in timing blocks, reduce longDelay by 1s if chosen less than 8 times in the last 10 free choice trials, to a minimum of 3s\n",
        "                if (blockType in ['short_long', 'long_short']) and (longDelay > 3):\n",
        "                    choiceLong = 1 if blockType == 'long_short' else 2\n",
        "                    if (len(freeChoices) >= 10) and (len(np.where(np.array(freeChoices[-10:]) == choiceLong)[0]) < 8):\n",
        "                        longDelay = longDelay - 1\n",
        "\n",
        "                delta = rewardPerceived - Q[odorchoice2state[odor-1, choice-1] - 1]\n",
        "                Q[odorchoice2state[odor-1, choice-1] - 1] += eta * delta\n",
        "                \n",
        "                # update the previous choice\n",
        "                preChoice = choice;\n",
        "                \n",
        "                # record data\n",
        "                sessionList.append(iSession+1)\n",
        "                sessionTypeList.append(sessionType)\n",
        "                trialList.append(iTrial+1)\n",
        "                blockList.append(iBlock+1)\n",
        "                blockTypeList.append(blockType)\n",
        "                odorList.append('left' if odor==1 else ('right' if odor==2 else 'free'))\n",
        "                choiceList.append(choice)\n",
        "                rewardAmountList.append(reward)\n",
        "                rewardDelayList.append(delay)\n",
        "                trialTypeList.append('valid')\n",
        "                trialCondCodeList.append(trialCondCode)\n",
        "                \n",
        "                # proceed to the next trial\n",
        "                if not ((odor < 3) and (choice != odor)): # if correct forced choice or any free choice\n",
        "                    iOdor += 1\n",
        "    \n",
        "    trialCondMapping = ['big_left','big_right','small_left','small_right','short_left','short_right','long_left','long_right']\n",
        "    trialCondList = [np.nan if np.isnan(trialCondCode) else trialCondMapping[trialCondCode - 1] for trialCondCode in trialCondCodeList]\n",
        "    dataset = ['simulation'] * len(sessionList)\n",
        "    rat = [iRat] * len(sessionList)\n",
        "    data = pd.DataFrame(list(zip(dataset, rat, sessionList, sessionTypeList, trialList, blockList, blockTypeList, odorList, choiceList, rewardAmountList, rewardDelayList, trialTypeList, trialCondCodeList, trialCondList)), columns=['dataset', 'rat', 'session', 'sessionType', 'trial', 'block', 'blockType', 'odor', 'choice', 'rewardAmount', 'rewardDelay', 'trialType', 'trialCondCode', 'trialCond'])\n",
        "    \n",
        "    return data        "
      ]
    },
    {
      "cell_type": "code",
      "execution_count": 29,
      "metadata": {
        "id": "QzBDUk4MnAH-"
      },
      "outputs": [],
      "source": [
        "def get_simulated_data(varName, modelName, w4=None, NSessions=10000, run_simulation=False):\n",
        "    \n",
        "    fileName = dir_simu + modelName + '_' + datasetName + '_groupMean' + (('_w4' + str(w4)) if w4 is not None else '') + '_NSessions' + str(NSessions) + '_NTrials' + str(NTrials) + '_' + varName + '.pickle'\n",
        "    \n",
        "    if varName == 'curveData':\n",
        "        curveData = None\n",
        "    \n",
        "    if run_simulation:\n",
        "        # set parameter values\n",
        "        params = get_params(datasetName, modelName)\n",
        "        if w4 is not None:\n",
        "            params[1] = w4\n",
        "        # run simulation\n",
        "        if modelName=='sixState_full':\n",
        "          dataSimu = sixState_full_sim(params)\n",
        "        elif modelName=='fourState_full':\n",
        "          dataSimu = fourState_full_sim(params)\n",
        "        if varName == 'avgR':\n",
        "            # calculate average reward\n",
        "            value = dataSimu['rewardAmount'].mean()\n",
        "        elif varName == 'curveData':\n",
        "            # prepare data for plotting learning curve\n",
        "            value = plotLearningCurve(dataSimu, N=10, ifReturnCurveData=True)\n",
        "        # save results\n",
        "        pickle.dump(value, open(fileName, 'wb'))\n",
        "    else:\n",
        "        # load results\n",
        "        value = pickle.load(open(fileName, 'rb'))\n",
        "        \n",
        "    return value"
      ]
    },
    {
      "cell_type": "code",
      "execution_count": 30,
      "metadata": {
        "id": "XetVK1D7eRd1"
      },
      "outputs": [],
      "source": [
        "run_simulation = True\n",
        "\n",
        "avgR = dict.fromkeys(['rat'+str(rat) for rat in ratList] + models + ['w4'+str(w4) for w4 in w4List])\n",
        "\n",
        "# all models\n",
        "for modelName in models:\n",
        "    avgR[modelName] = get_simulated_data('avgR', modelName, None, NSessions, run_simulation)\n",
        "\n",
        "# animals\n",
        "for rat in ratList:\n",
        "    avgR['rat'+str(rat)] = dataValid.loc[dataValid['rat'] == rat, 'rewardAmount'].mean()"
      ]
    },
    {
      "cell_type": "code",
      "execution_count": 31,
      "metadata": {
        "colab": {
          "base_uri": "https://localhost:8080/",
          "height": 280
        },
        "id": "lAD38IASghim",
        "outputId": "89863db9-3116-4a59-a85e-0b333b549d5a"
      },
      "outputs": [
        {
          "output_type": "stream",
          "name": "stderr",
          "text": [
            "WARNING:matplotlib.font_manager:findfont: Font family ['arial'] not found. Falling back to DejaVu Sans.\n"
          ]
        },
        {
          "output_type": "display_data",
          "data": {
            "text/plain": [
              "<Figure size 288x216 with 1 Axes>"
            ],
            "image/png": "[encoded data removed]",
            "application/pdf": "[encoded data removed]"
          },
          "metadata": {
            "needs_background": "light"
          }
        }
      ],
      "source": [
        "from IPython.display import set_matplotlib_formats\n",
        "set_matplotlib_formats('png', 'pdf')\n",
        "\n",
        "lineWidth = 2\n",
        "fontsize = 24\n",
        "labelsize = 20\n",
        "ylim=[1.05, 1.14]\n",
        "\n",
        "fig, ax = plt.subplots(figsize=(4,3))\n",
        "\n",
        "# simulation\n",
        "ax.plot(1, avgR['fourState_full'], 'o', color='C1', linewidth=lineWidth, markersize=8, label='Four-state')\n",
        "ax.plot(0, avgR['sixState_full'], 'o', color='C2', linewidth=lineWidth, markersize=8, label='Six-state')\n",
        "\n",
        "from matplotlib.colors import ListedColormap, BoundaryNorm\n",
        "from matplotlib.collections import LineCollection\n",
        "\n",
        "N = 256\n",
        "vals = np.ones((N, 2))\n",
        "vals[:, 0] = np.linspace(44/256, 255/256, N)\n",
        "vals[:, 1] = np.linspace(160/256, 127/256, N)\n",
        "\n",
        "cmap = ListedColormap(vals)\n",
        "\n",
        "# animals\n",
        "avgR_rat = np.array([avgR['rat'+str(rat)] for rat in ratList])\n",
        "ax.errorbar(x=1.5, y=np.mean(avgR_rat), yerr=np.std(avgR_rat)/np.sqrt(len(ratList)), linestyle='', color='k', capsize=7, linewidth=lineWidth, label='Rats')\n",
        "ax.plot(1.5, np.mean(avgR_rat), '.', color='k', markersize=8)\n",
        "\n",
        "ax.set_xlabel('$w_4$         ', fontsize=fontsize)\n",
        "ax.set_ylabel('Average reward', fontsize=fontsize, labelpad=10)\n",
        "ax.tick_params(axis='both', width=1.5, pad=5, direction='out', labelsize=labelsize)\n",
        "ax.spines['top'].set_visible(False)\n",
        "ax.spines['right'].set_visible(False)\n",
        "ax.spines['left'].set_linewidth(1.5)\n",
        "ax.spines['bottom'].set_linewidth(1.5)\n",
        "ax.set(xlim=[-0.15,1.7], ylim=ylim)\n",
        "ax.set(xticks=[0,0.5,1])\n",
        "\n",
        "ax.legend(frameon=False, fontsize=labelsize, handletextpad=0.5, bbox_to_anchor=(1, 1.1))\n",
        "\n",
        "plt.show()"
      ]
    },
    {
      "cell_type": "markdown",
      "source": [
        "The four-state model (w 4 = 1) shows faster learning in each of\n",
        "the blocks and higher asymptotic accuracy than the six-state model (w 4 = 0)."
      ],
      "metadata": {
        "id": "sZ53VWU2SqQg"
      }
    },
    {
      "cell_type": "markdown",
      "metadata": {
        "id": "Ay-QqUsJ0Yg5"
      },
      "source": [
        "## Model Comparison"
      ]
    },
    {
      "cell_type": "code",
      "execution_count": 32,
      "metadata": {
        "id": "Df7cBfISRYjC"
      },
      "outputs": [],
      "source": [
        "# For all models: samples is a dataframe with samples of parameters; dd is a data dictionary\n",
        "def sixState_full_predict(samples, dd):\n",
        "    \n",
        "    # extract each parameter (beta, eta, gamma: #samples * #subjects)\n",
        "    beta = np.array(samples.loc[:, ['beta['+str(iSub+1)+']' for iSub in np.arange(dd['Ns'])]])\n",
        "    eta = np.array(samples.loc[:, ['eta['+str(iSub+1)+']' for iSub in np.arange(dd['Ns'])]])\n",
        "    gamma =  np.array(samples.loc[:, ['gamma['+str(iSub+1)+']' for iSub in np.arange(dd['Ns'])]])\n",
        "    sb =  np.array(samples.loc[:, ['sb['+str(iSub+1)+']' for iSub in np.arange(dd['Ns'])]])\n",
        "    pers =  np.array(samples.loc[:, ['pers['+str(iSub+1)+']' for iSub in np.arange(dd['Ns'])]])\n",
        "    lapse =  np.array(samples.loc[:, ['lapse['+str(iSub+1)+']' for iSub in np.arange(dd['Ns'])]])\n",
        "    \n",
        "    NSamples = samples.shape[0]\n",
        "    \n",
        "    likelihood = np.empty((NSamples, dd['Nt'])) * np.nan\n",
        "    currentSubject = -1;\n",
        "    currentSession = -1;\n",
        "    \n",
        "    # Likelihood of all the data\n",
        "    for tr in np.arange(dd['Nt']):\n",
        "        if dd['startSubject'][tr]>0: # if this is the start of a new subject\n",
        "            currentSubject += 1;\n",
        "        if dd['startSession'][tr]>0: # if this is the start of a new session\n",
        "            currentSession += 1;\n",
        "            # reset Q values and the perseveration term\n",
        "            Q = np.zeros((NSamples, 3, 2));\n",
        "            preChoice = 0;\n",
        "            perseveration = np.zeros((NSamples, 2));\n",
        "        if dd['trialType'][tr] != 0: # valid trials or early exit trials (trials with choices)\n",
        "            if preChoice > 0:  # not the first choice of a session\n",
        "                perseveration[:, preChoice-1] = pers[:, currentSubject];\n",
        "                perseveration[:, 2-preChoice] = 0;\n",
        "            # likelihood of observed choice\n",
        "            DVLeft = Q[:, dd['odor'][tr]-1, 0] + perseveration[:, 0]\n",
        "            DVRight = Q[:, dd['odor'][tr]-1, 1] + sb[:, currentSubject] + perseveration[:, 1]\n",
        "            pLeft = (1 - lapse[:, currentSubject]) * 1 / (1 + np.exp(- beta[:, currentSubject] * (DVLeft - DVRight))) + lapse[:, currentSubject]/2\n",
        "            likelihood[:, tr] = pLeft if dd['choice'][tr] == 1 else (1-pLeft)\n",
        "            # calculate reward prediction error\n",
        "            delta = dd['reward'][tr] * np.power(gamma[:, currentSubject], dd['delay'][tr]) - Q[:, dd['odor'][tr]-1, dd['choice'][tr]-1];\n",
        "            # update Q values\n",
        "            Q[:, dd['odor'][tr]-1, dd['choice'][tr]-1] += eta[:, currentSubject] * delta;\n",
        "            # update the previous choice\n",
        "            preChoice = dd['choice'][tr];\n",
        "    \n",
        "    return likelihood"
      ]
    },
    {
      "cell_type": "code",
      "execution_count": 33,
      "metadata": {
        "id": "ysSMsKiaWJRw"
      },
      "outputs": [],
      "source": [
        "def fourState_full_predict(samples, dd):\n",
        "    \n",
        "    # extract each parameter (beta, eta, gamma: #samples * #subjects)\n",
        "    beta = np.array(samples.loc[:, ['beta['+str(iSub+1)+']' for iSub in np.arange(dd['Ns'])]])\n",
        "    eta = np.array(samples.loc[:, ['eta['+str(iSub+1)+']' for iSub in np.arange(dd['Ns'])]])\n",
        "    gamma =  np.array(samples.loc[:, ['gamma['+str(iSub+1)+']' for iSub in np.arange(dd['Ns'])]])\n",
        "    sb =  np.array(samples.loc[:, ['sb['+str(iSub+1)+']' for iSub in np.arange(dd['Ns'])]])\n",
        "    pers =  np.array(samples.loc[:, ['pers['+str(iSub+1)+']' for iSub in np.arange(dd['Ns'])]])\n",
        "    lapse =  np.array(samples.loc[:, ['lapse['+str(iSub+1)+']' for iSub in np.arange(dd['Ns'])]])\n",
        "    \n",
        "    NSamples = samples.shape[0]\n",
        "    \n",
        "    odorchoice2state = np.array([[1,4],[3,2],[1,2]])\n",
        "    \n",
        "    likelihood = np.empty((NSamples, dd['Nt'])) * np.nan\n",
        "    currentSubject = -1;\n",
        "    currentSession = -1;\n",
        "    \n",
        "    # Likelihood of all the data\n",
        "    for tr in np.arange(dd['Nt']):\n",
        "        if dd['startSubject'][tr]>0: # if this is the start of a new subject\n",
        "            currentSubject += 1;\n",
        "        if dd['startSession'][tr]>0: # if this is the start of a new session\n",
        "            currentSession += 1;\n",
        "            # reset Q values and the perseveration term\n",
        "            Q = np.zeros((NSamples, 4));\n",
        "            preChoice = 0;\n",
        "            perseveration = np.zeros((NSamples, 2));\n",
        "        if dd['trialType'][tr] != 0: # valid trials or early exit trials (trials with choices)\n",
        "            if preChoice > 0:  # not the first choice of a session\n",
        "                perseveration[:, preChoice-1] = pers[:, currentSubject];\n",
        "                perseveration[:, 2-preChoice] = 0;\n",
        "            # likelihood of observed choice\n",
        "            DVLeft = Q[:, odorchoice2state[dd['odor'][tr]-1,0] -1] + perseveration[:, 0]\n",
        "            DVRight = Q[:, odorchoice2state[dd['odor'][tr]-1,1] -1] + sb[:, currentSubject] + perseveration[:, 1]\n",
        "            pLeft = (1 - lapse[:, currentSubject]) * 1 / (1 + np.exp(- beta[:, currentSubject] * (DVLeft - DVRight))) + lapse[:, currentSubject]/2\n",
        "            likelihood[:, tr] = pLeft if dd['choice'][tr] == 1 else (1-pLeft)\n",
        "            # calculate reward prediction error\n",
        "            delta = dd['reward'][tr] * np.power(gamma[:, currentSubject], dd['delay'][tr]) - Q[:, odorchoice2state[dd['odor'][tr]-1, dd['choice'][tr]-1] - 1 ];\n",
        "            # update Q values\n",
        "            Q[:, odorchoice2state[dd['odor'][tr]-1, dd['choice'][tr]-1] - 1 ] += eta[:, currentSubject] * delta;\n",
        "            # update the previous choice\n",
        "            preChoice = dd['choice'][tr];\n",
        "    \n",
        "    return likelihood"
      ]
    },
    {
      "cell_type": "code",
      "execution_count": 34,
      "metadata": {
        "id": "jh5K3FOCyPX2"
      },
      "outputs": [],
      "source": [
        "modelPredictions = {\n",
        "    'sixState_full': sixState_full_predict,\n",
        "    'fourState_full': fourState_full_predict,\n",
        "}"
      ]
    },
    {
      "cell_type": "code",
      "execution_count": 35,
      "metadata": {
        "id": "UXM_DSmjOina"
      },
      "outputs": [],
      "source": [
        "def func_WAIC(likelihood, typeCorrection=2):\n",
        "    \n",
        "    # likelihood: #samples * #trials\n",
        "    lppd = np.sum(np.log(np.mean(likelihood, axis=0)))\n",
        "    if typeCorrection == 1:\n",
        "        pWAIC = 2 * np.sum( np.log(np.mean(likelihood, axis=0)) - np.mean(np.log(likelihood), axis=0) )\n",
        "    else:\n",
        "        pWAIC = np.sum(np.var(np.log(likelihood), axis=0, ddof=1))\n",
        "    return - 2 * lppd + 2 * pWAIC"
      ]
    },
    {
      "cell_type": "code",
      "execution_count": 36,
      "metadata": {
        "id": "xTa8Az7lOo6w"
      },
      "outputs": [],
      "source": [
        "def func_WAIC_comparison(likelihood1, likelihood2, typeCorrection=2):\n",
        "    \n",
        "    # likelihood1/2: #samples * #trials\n",
        "    # take model 1 as baseline\n",
        "    Ntrials = likelihood1.shape[1]\n",
        "    \n",
        "    lppd1_trial = np.log(np.mean(likelihood1, axis=0))\n",
        "    lppd2_trial = np.log(np.mean(likelihood2, axis=0))\n",
        "    if typeCorrection == 1:\n",
        "        pWAIC1_trial = 2 * ( np.log(np.mean(likelihood1, axis=0)) - np.mean(np.log(likelihood1), axis=0) )\n",
        "        pWAIC2_trial = 2 * ( np.log(np.mean(likelihood2, axis=0)) - np.mean(np.log(likelihood2), axis=0) )\n",
        "    else:\n",
        "        pWAIC1_trial = np.var(np.log(likelihood1), axis=0, ddof=1)\n",
        "        pWAIC2_trial = np.var(np.log(likelihood2), axis=0, ddof=1)\n",
        "    \n",
        "    waic1_trial = - 2 * lppd1_trial + 2 * pWAIC1_trial\n",
        "    waic2_trial = - 2 * lppd2_trial + 2 * pWAIC2_trial\n",
        "    \n",
        "    waic_diff = np.sum(waic2_trial - waic1_trial)\n",
        "    waic_diff_se = np.sqrt(Ntrials * np.var(waic2_trial - waic1_trial))\n",
        "    \n",
        "    return waic_diff, waic_diff_se, waic_diff/Ntrials, waic_diff_se/Ntrials,"
      ]
    },
    {
      "cell_type": "code",
      "execution_count": 37,
      "metadata": {
        "id": "Saa6ErUvOu5Q"
      },
      "outputs": [],
      "source": [
        "def calculate_likelihood(datasetName, data, baselineModel, modelList):\n",
        "    \n",
        "    # import data\n",
        "    dd = data2dict(data)\n",
        "\n",
        "    # get the likelihood for the baseline model\n",
        "    allSamples_baseline = pd.read_csv('/content/drive/My Drive/model_fits/'+datasetName+'_'+baselineModel+'_allSamples.csv')\n",
        "    parSamples_baseline = allSamples_baseline.loc[allSamples_baseline['warmup']==0, [col for col in allSamples_baseline if np.sum([col.startswith(parName+'[') for parName in modelInfo[baselineModel]['parNames']])>0]]\n",
        "    likelihood_baseline = modelPredictions[baselineModel](parSamples_baseline, dd)\n",
        "\n",
        "    # calculate waic difference\n",
        "    waicDiff, waicDiff_se = [dict.fromkeys(modelList) for i in range(2)]\n",
        "    waicDiff_rat_perTrial, waicDiff_rat_perTrial_se = [pd.DataFrame() for i in range(2)]\n",
        "\n",
        "    for model in modelList:\n",
        "        allSamples = pd.read_csv('/content/drive/My Drive/model_fits/'+datasetName+'_'+model+'_allSamples.csv')\n",
        "        parSamples = allSamples.loc[allSamples['warmup']==0, [col for col in allSamples if np.sum([col.startswith(parName+'[') for parName in modelInfo[model]['parNames']])>0]]\n",
        "        likelihood = modelPredictions[model](parSamples, dd)\n",
        "\n",
        "        # for the entire group\n",
        "        waicDiff[model], waicDiff_se[model], _, _ = func_WAIC_comparison(likelihood_baseline, likelihood, typeCorrection=2)\n",
        "\n",
        "        # for each individual animal\n",
        "        for rat in data['rat'].unique():\n",
        "            _, _, diff_perTrial, se_perTrial = func_WAIC_comparison(likelihood_baseline[:, data['rat'] == rat], likelihood[:, data['rat'] == rat])\n",
        "            waicDiff_rat_perTrial.loc[rat, model] = diff_perTrial\n",
        "            waicDiff_rat_perTrial_se.loc[rat, model] = se_perTrial\n",
        "\n",
        "    metrics_group = pd.DataFrame(data=[waicDiff, waicDiff_se], index=['waicDiff','waicDiff_se'])\n",
        "    waicDiff_rat_perTrial = waicDiff_rat_perTrial.reset_index().rename(columns={'index':'rat'})\n",
        "    waicDiff_rat_perTrial_se = waicDiff_rat_perTrial_se.reset_index().rename(columns={'index':'rat'})\n",
        "\n",
        "    return metrics_group, waicDiff_rat_perTrial, waicDiff_rat_perTrial_se"
      ]
    },
    {
      "cell_type": "code",
      "execution_count": 38,
      "metadata": {
        "colab": {
          "base_uri": "https://localhost:8080/",
          "height": 881
        },
        "id": "AKgy_IIBznmR",
        "outputId": "c2cfff09-f574-4cf2-9d64-8b9e2f20c973"
      },
      "outputs": [
        {
          "output_type": "display_data",
          "data": {
            "text/plain": [
              "             fourState_full  sixState_full\n",
              "waicDiff        1211.398557            0.0\n",
              "waicDiff_se       78.425047            0.0"
            ],
            "text/html": [
              "\n",
              "  <div id=\"df-9615c6d9-19ff-4eca-8211-986c560174a1\">\n",
              "    <div class=\"colab-df-container\">\n",
              "      <div>\n",
              "<style scoped>\n",
              "    .dataframe tbody tr th:only-of-type {\n",
              "        vertical-align: middle;\n",
              "    }\n",
              "\n",
              "    .dataframe tbody tr th {\n",
              "        vertical-align: top;\n",
              "    }\n",
              "\n",
              "    .dataframe thead th {\n",
              "        text-align: right;\n",
              "    }\n",
              "</style>\n",
              "<table border=\"1\" class=\"dataframe\">\n",
              "  <thead>\n",
              "    <tr style=\"text-align: right;\">\n",
              "      <th></th>\n",
              "      <th>fourState_full</th>\n",
              "      <th>sixState_full</th>\n",
              "    </tr>\n",
              "  </thead>\n",
              "  <tbody>\n",
              "    <tr>\n",
              "      <th>waicDiff</th>\n",
              "      <td>1211.398557</td>\n",
              "      <td>0.0</td>\n",
              "    </tr>\n",
              "    <tr>\n",
              "      <th>waicDiff_se</th>\n",
              "      <td>78.425047</td>\n",
              "      <td>0.0</td>\n",
              "    </tr>\n",
              "  </tbody>\n",
              "</table>\n",
              "</div>\n",
              "      <button class=\"colab-df-convert\" onclick=\"convertToInteractive('df-9615c6d9-19ff-4eca-8211-986c560174a1')\"\n",
              "              title=\"Convert this dataframe to an interactive table.\"\n",
              "              style=\"display:none;\">\n",
              "        \n",
              "  <svg xmlns=\"http://www.w3.org/2000/svg\" height=\"24px\"viewBox=\"0 0 24 24\"\n",
              "       width=\"24px\">\n",
              "    <path d=\"M0 0h24v24H0V0z\" fill=\"none\"/>\n",
              "    <path d=\"M18.56 5.44l.94 2.06.94-2.06 2.06-.94-2.06-.94-.94-2.06-.94 2.06-2.06.94zm-11 1L8.5 8.5l.94-2.06 2.06-.94-2.06-.94L8.5 2.5l-.94 2.06-2.06.94zm10 10l.94 2.06.94-2.06 2.06-.94-2.06-.94-.94-2.06-.94 2.06-2.06.94z\"/><path d=\"M17.41 7.96l-1.37-1.37c-.4-.4-.92-.59-1.43-.59-.52 0-1.04.2-1.43.59L10.3 9.45l-7.72 7.72c-.78.78-.78 2.05 0 2.83L4 21.41c.39.39.9.59 1.41.59.51 0 1.02-.2 1.41-.59l7.78-7.78 2.81-2.81c.8-.78.8-2.07 0-2.86zM5.41 20L4 18.59l7.72-7.72 1.47 1.35L5.41 20z\"/>\n",
              "  </svg>\n",
              "      </button>\n",
              "      \n",
              "  <style>\n",
              "    .colab-df-container {\n",
              "      display:flex;\n",
              "      flex-wrap:wrap;\n",
              "      gap: 12px;\n",
              "    }\n",
              "\n",
              "    .colab-df-convert {\n",
              "      background-color: #E8F0FE;\n",
              "      border: none;\n",
              "      border-radius: 50%;\n",
              "      cursor: pointer;\n",
              "      display: none;\n",
              "      fill: #1967D2;\n",
              "      height: 32px;\n",
              "      padding: 0 0 0 0;\n",
              "      width: 32px;\n",
              "    }\n",
              "\n",
              "    .colab-df-convert:hover {\n",
              "      background-color: #E2EBFA;\n",
              "      box-shadow: 0px 1px 2px rgba(60, 64, 67, 0.3), 0px 1px 3px 1px rgba(60, 64, 67, 0.15);\n",
              "      fill: #174EA6;\n",
              "    }\n",
              "\n",
              "    [theme=dark] .colab-df-convert {\n",
              "      background-color: #3B4455;\n",
              "      fill: #D2E3FC;\n",
              "    }\n",
              "\n",
              "    [theme=dark] .colab-df-convert:hover {\n",
              "      background-color: #434B5C;\n",
              "      box-shadow: 0px 1px 3px 1px rgba(0, 0, 0, 0.15);\n",
              "      filter: drop-shadow(0px 1px 2px rgba(0, 0, 0, 0.3));\n",
              "      fill: #FFFFFF;\n",
              "    }\n",
              "  </style>\n",
              "\n",
              "      <script>\n",
              "        const buttonEl =\n",
              "          document.querySelector('#df-9615c6d9-19ff-4eca-8211-986c560174a1 button.colab-df-convert');\n",
              "        buttonEl.style.display =\n",
              "          google.colab.kernel.accessAllowed ? 'block' : 'none';\n",
              "\n",
              "        async function convertToInteractive(key) {\n",
              "          const element = document.querySelector('#df-9615c6d9-19ff-4eca-8211-986c560174a1');\n",
              "          const dataTable =\n",
              "            await google.colab.kernel.invokeFunction('convertToInteractive',\n",
              "                                                     [key], {});\n",
              "          if (!dataTable) return;\n",
              "\n",
              "          const docLinkHtml = 'Like what you see? Visit the ' +\n",
              "            '<a target=\"_blank\" href=https://colab.research.google.com/notebooks/data_table.ipynb>data table notebook</a>'\n",
              "            + ' to learn more about interactive tables.';\n",
              "          element.innerHTML = '';\n",
              "          dataTable['output_type'] = 'display_data';\n",
              "          await google.colab.output.renderOutput(dataTable, element);\n",
              "          const docLink = document.createElement('div');\n",
              "          docLink.innerHTML = docLinkHtml;\n",
              "          element.appendChild(docLink);\n",
              "        }\n",
              "      </script>\n",
              "    </div>\n",
              "  </div>\n",
              "  "
            ]
          },
          "metadata": {}
        },
        {
          "output_type": "stream",
          "name": "stderr",
          "text": [
            "WARNING:matplotlib.font_manager:findfont: Font family ['arial'] not found. Falling back to DejaVu Sans.\n"
          ]
        },
        {
          "output_type": "display_data",
          "data": {
            "text/plain": [
              "<Figure size 288x288 with 1 Axes>"
            ],
            "image/png": "[encoded data removed]",
            "application/pdf": "[encoded data removed]"
          },
          "metadata": {
            "needs_background": "light"
          }
        },
        {
          "output_type": "stream",
          "name": "stderr",
          "text": [
            "WARNING:matplotlib.font_manager:findfont: Font family ['arial'] not found. Falling back to DejaVu Sans.\n"
          ]
        },
        {
          "output_type": "display_data",
          "data": {
            "text/plain": [
              "<Figure size 792x288 with 1 Axes>"
            ],
            "image/png": "[encoded data removed]",
            "application/pdf": "[encoded data removed]"
          },
          "metadata": {
            "needs_background": "light"
          }
        }
      ],
      "source": [
        "modelList = ['fourState_full', 'sixState_full']\n",
        "baselineModel = 'sixState_full'\n",
        "modelNames = {\n",
        "    'sixState_full': 'Six-state',\n",
        "    'fourState_full': 'Four-state',\n",
        "    }\n",
        "\n",
        "# Calculate WAIC difference from model fits (the following cell may take a few minutes to run)\n",
        "\n",
        "metrics_group, waicDiff_rat_perTrial, waicDiff_rat_perTrial_se = calculate_likelihood(datasetName, data, baselineModel, modelList)\n",
        "\n",
        "# Model comparison (WAIC) figure\n",
        "\n",
        "colors_group = {\n",
        "    'sixState_full':'w',\n",
        "    'fourState_full':'w'\n",
        "}\n",
        "\n",
        "colors_individual = {\n",
        "    'sixState_full': 'C2',\n",
        "    'fourState_full': 'C1'\n",
        "}\n",
        "\n",
        "# for the entire group\n",
        "fig, ax = plt.subplots(figsize=(4,4))\n",
        "display(metrics_group[modelList])\n",
        "\n",
        "iM = 0\n",
        "for model in modelList:\n",
        "    ax.bar(x=iM, height=metrics_group.loc['waicDiff', model], alpha=0.8, edgecolor='k', lineWidth=2, color=colors_group[model])\n",
        "    ax.errorbar(x=iM, y=metrics_group.loc['waicDiff', model], yerr=metrics_group.loc['waicDiff_se', model], ecolor='k', fmt='None', capsize=5, label=None, elinewidth=2, markeredgewidth=2)\n",
        "    iM += 1\n",
        "ax.set_xticks(np.arange(len(modelList))-0.25)\n",
        "ax.set_xlabel('', fontsize=28)\n",
        "ax.set_ylabel(r'$\\Delta$ WAIC', fontsize=28)\n",
        "ax.tick_params(axis='both', pad=5, labelsize=28)\n",
        "ax.tick_params(axis='x', length=0)\n",
        "sns.despine()\n",
        "ax.spines['bottom'].set_position('zero')\n",
        "ax.spines['bottom'].set_linewidth(1.5)\n",
        "ax.spines['left'].set_linewidth(1.5)\n",
        "ax.tick_params(axis='x', pad=50)\n",
        "ax.set_xticklabels([modelNames[model] for model in modelList], rotation=-40, horizontalalignment='left')\n",
        "fig.subplots_adjust(left=0, bottom=0, right=1, top=1)\n",
        "plt.show()\n",
        "\n",
        "\n",
        "# per animal\n",
        "fig, ax = plt.subplots(figsize=(5.5*(len(modelList)),4))\n",
        "NRats = data['rat'].unique().size\n",
        "x = np.arange(NRats)+1\n",
        "deltax = np.linspace(0,1,len(modelList)-1)*0.5-0.25 #[-0.3, 0, 0.3]\n",
        "barwidth = 0.2*3/(len(modelList)-1)\n",
        "iM = 0\n",
        "for model in modelList:\n",
        "    waicDiff = waicDiff_rat_perTrial[model].values\n",
        "    waicDiff_se = waicDiff_rat_perTrial_se[model].values\n",
        "    if 'sixState' not in model:\n",
        "        ax.bar(x+deltax[iM], height=[waicDiff[r] for r in ratOrder], width=barwidth, edgecolor='k', align='center', lineWidth=2, color=colors_individual[model], label=modelNames[model])\n",
        "        ax.errorbar(x=x+deltax[iM], y=[waicDiff[r] for r in ratOrder], yerr=[waicDiff_se[r] for r in ratOrder], ecolor='k', fmt='None', capsize=3, label='', elinewidth=2, markeredgewidth=2)\n",
        "        iM += 1\n",
        "ax.set_xticks(x)\n",
        "ax.set_xlabel('Rat')\n",
        "ax.set_ylabel(r'$\\Delta$ WAIC per trial')\n",
        "ax.spines['bottom'].set_position('zero')\n",
        "sns.despine()\n",
        "ax.xaxis.labelpad = 15\n",
        "ax.tick_params(axis='x', width=1.5, pad=15)\n",
        "ax.tick_params(axis='x', pad=60)\n",
        "ax.tick_params(axis='y', width=1.5, length=5, pad=5)\n",
        "ax.spines['bottom'].set_linewidth(1.5)\n",
        "ax.spines['left'].set_linewidth(1.5)\n",
        "ax.set(xlim=[0.2, NRats+0.8])\n",
        "ax.legend(frameon=False, handletextpad=0.5, bbox_to_anchor=(1, 1))\n",
        "plt.show()\n",
        "\n"
      ]
    },
    {
      "cell_type": "markdown",
      "source": [
        "Model comparison results.\n",
        "WAIC difference between two models and the six-state model for the entire dataset (summed across all trials from all animals). Lower values indicate better\n",
        "model fits. Error bars represent standard errors across samples . \n",
        "\n"
      ],
      "metadata": {
        "id": "csJFSXwLTNPc"
      }
    },
    {
      "cell_type": "code",
      "execution_count": 39,
      "metadata": {
        "colab": {
          "base_uri": "https://localhost:8080/",
          "height": 362
        },
        "id": "BG6WD8Rn0rVp",
        "outputId": "6c1b1516-da05-409e-e5d2-5ca94c3c1171"
      },
      "outputs": [
        {
          "output_type": "display_data",
          "data": {
            "text/plain": [
              "<Figure size 288x288 with 1 Axes>"
            ],
            "image/png": "[encoded data removed]",
            "application/pdf": "[encoded data removed]"
          },
          "metadata": {
            "needs_background": "light"
          }
        }
      ],
      "source": [
        "# jitterred scatter plot for individual delta WAIC per trial\n",
        "waicdiff = pd.melt(waicDiff_rat_perTrial, id_vars=['rat'], value_vars=modelList, var_name='model', value_name='waicDiff_rat_perTrial')\n",
        "fig, ax = plt.subplots(figsize=(4,4))\n",
        "for dataset in datasets:\n",
        "    sns.stripplot(x='model', y='waicDiff_rat_perTrial', data=waicdiff[waicdiff['rat'].isin(dataset2rat[dataset])], linewidth=2,\n",
        "                  ax=ax, jitter=0.2, color='black', alpha=.65, size=8*ratio_s[dataset], marker=dataset2marker[dataset], label=dataset_labels[dataset])\n",
        "sns.despine()\n",
        "ax.spines['bottom'].set_linewidth(1.5)\n",
        "ax.spines['left'].set_linewidth(1.5)\n",
        "ax.spines['bottom'].set_position('zero')\n",
        "ax.tick_params(axis='x', length=0, width=1.5, pad=80)\n",
        "ax.tick_params(axis='y', width=1.5, length=5, pad=5)\n",
        "ax.set_xticks(np.arange(len(modelList))-0.25)\n",
        "ax.set(yticks=[0, 0.05],yticklabels=[0,0.05])\n",
        "ax.set_ylim([-0.02,0.055])\n",
        "ax.set_xticklabels([modelNames[model] for model in modelList], rotation=-40, horizontalalignment='left')\n",
        "ax.set_xlabel('')\n",
        "ax.set_ylabel(r'$\\Delta$ WAIC per trial')\n",
        "fig.subplots_adjust(left=0, bottom=0, right=1, top=1)\n",
        "plt.show()"
      ]
    },
    {
      "cell_type": "markdown",
      "source": [
        "Individual differences in average WAIC per trial between two models and the six-state model. Each marker corresponds to an individual animal, with different markers representing different datasets "
      ],
      "metadata": {
        "id": "3zhvYl1ZTq3k"
      }
    }
  ],
  "metadata": {
    "accelerator": "GPU",
    "colab": {
      "collapsed_sections": [
        "ERwh062XQw9n",
        "9Ps7D0czQ2iY",
        "LTsHiuBsR8BP",
        "jQ8U0WdSP7en"
      ],
      "name": "Minimal cross-trial generalization in learning the representation of an odor-guided choice task.ipynb",
      "provenance": []
    },
    "kernelspec": {
      "display_name": "Python 3",
      "name": "python3"
    },
    "language_info": {
      "name": "python"
    }
  },
  "nbformat": 4,
  "nbformat_minor": 0
}